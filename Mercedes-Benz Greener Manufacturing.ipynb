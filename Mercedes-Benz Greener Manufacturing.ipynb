{
 "cells": [
  {
   "cell_type": "code",
   "execution_count": 1,
   "metadata": {
    "id": "60dd8045"
   },
   "outputs": [],
   "source": [
    "import pandas as pd\n",
    "import numpy as np\n",
    "import matplotlib.pyplot as plt\n",
    "%matplotlib inline\n",
    "import seaborn as sns"
   ]
  },
  {
   "cell_type": "code",
   "execution_count": 2,
   "metadata": {
    "id": "ba201691"
   },
   "outputs": [],
   "source": [
    "traindata=pd.read_csv(\"train.csv\")\n",
    "testdata=pd.read_csv(\"test.csv\")"
   ]
  },
  {
   "cell_type": "code",
   "execution_count": 3,
   "metadata": {
    "id": "6435e0f5",
    "outputId": "d799fb27-669c-4627-a7e3-2abba06c64ec"
   },
   "outputs": [
    {
     "name": "stdout",
     "output_type": "stream",
     "text": [
      "(4209, 378)\n",
      "(4209, 377)\n"
     ]
    }
   ],
   "source": [
    "print(traindata.shape)\n",
    "print(testdata.shape)"
   ]
  },
  {
   "cell_type": "code",
   "execution_count": 4,
   "metadata": {
    "id": "45e63c47",
    "outputId": "dcb6631c-8bd6-4aa5-b04c-75c3870c31a9"
   },
   "outputs": [
    {
     "data": {
      "text/plain": [
       "Index(['ID', 'y', 'X0', 'X1', 'X2', 'X3', 'X4', 'X5', 'X6', 'X8',\n",
       "       ...\n",
       "       'X375', 'X376', 'X377', 'X378', 'X379', 'X380', 'X382', 'X383', 'X384',\n",
       "       'X385'],\n",
       "      dtype='object', length=378)"
      ]
     },
     "execution_count": 4,
     "metadata": {},
     "output_type": "execute_result"
    }
   ],
   "source": [
    "traindata.columns"
   ]
  },
  {
   "cell_type": "code",
   "execution_count": 5,
   "metadata": {
    "id": "83720c2d",
    "outputId": "595854d4-1da9-4850-975c-ecb1f3f87d96"
   },
   "outputs": [
    {
     "data": {
      "text/plain": [
       "Index(['ID', 'X0', 'X1', 'X2', 'X3', 'X4', 'X5', 'X6', 'X8', 'X10',\n",
       "       ...\n",
       "       'X375', 'X376', 'X377', 'X378', 'X379', 'X380', 'X382', 'X383', 'X384',\n",
       "       'X385'],\n",
       "      dtype='object', length=377)"
      ]
     },
     "execution_count": 5,
     "metadata": {},
     "output_type": "execute_result"
    }
   ],
   "source": [
    "testdata.columns"
   ]
  },
  {
   "cell_type": "code",
   "execution_count": 6,
   "metadata": {
    "id": "91dbc507",
    "outputId": "f182ebb0-5460-4514-cbf1-ceb13858d3da"
   },
   "outputs": [
    {
     "data": {
      "text/html": [
       "<div>\n",
       "<style scoped>\n",
       "    .dataframe tbody tr th:only-of-type {\n",
       "        vertical-align: middle;\n",
       "    }\n",
       "\n",
       "    .dataframe tbody tr th {\n",
       "        vertical-align: top;\n",
       "    }\n",
       "\n",
       "    .dataframe thead th {\n",
       "        text-align: right;\n",
       "    }\n",
       "</style>\n",
       "<table border=\"1\" class=\"dataframe\">\n",
       "  <thead>\n",
       "    <tr style=\"text-align: right;\">\n",
       "      <th></th>\n",
       "      <th>ID</th>\n",
       "      <th>y</th>\n",
       "      <th>X10</th>\n",
       "      <th>X11</th>\n",
       "      <th>X12</th>\n",
       "      <th>X13</th>\n",
       "      <th>X14</th>\n",
       "      <th>X15</th>\n",
       "      <th>X16</th>\n",
       "      <th>X17</th>\n",
       "      <th>...</th>\n",
       "      <th>X375</th>\n",
       "      <th>X376</th>\n",
       "      <th>X377</th>\n",
       "      <th>X378</th>\n",
       "      <th>X379</th>\n",
       "      <th>X380</th>\n",
       "      <th>X382</th>\n",
       "      <th>X383</th>\n",
       "      <th>X384</th>\n",
       "      <th>X385</th>\n",
       "    </tr>\n",
       "  </thead>\n",
       "  <tbody>\n",
       "    <tr>\n",
       "      <th>count</th>\n",
       "      <td>4209.000000</td>\n",
       "      <td>4209.000000</td>\n",
       "      <td>4209.000000</td>\n",
       "      <td>4209.0</td>\n",
       "      <td>4209.000000</td>\n",
       "      <td>4209.000000</td>\n",
       "      <td>4209.000000</td>\n",
       "      <td>4209.000000</td>\n",
       "      <td>4209.000000</td>\n",
       "      <td>4209.000000</td>\n",
       "      <td>...</td>\n",
       "      <td>4209.000000</td>\n",
       "      <td>4209.000000</td>\n",
       "      <td>4209.000000</td>\n",
       "      <td>4209.000000</td>\n",
       "      <td>4209.000000</td>\n",
       "      <td>4209.000000</td>\n",
       "      <td>4209.000000</td>\n",
       "      <td>4209.000000</td>\n",
       "      <td>4209.000000</td>\n",
       "      <td>4209.000000</td>\n",
       "    </tr>\n",
       "    <tr>\n",
       "      <th>mean</th>\n",
       "      <td>4205.960798</td>\n",
       "      <td>100.669318</td>\n",
       "      <td>0.013305</td>\n",
       "      <td>0.0</td>\n",
       "      <td>0.075077</td>\n",
       "      <td>0.057971</td>\n",
       "      <td>0.428130</td>\n",
       "      <td>0.000475</td>\n",
       "      <td>0.002613</td>\n",
       "      <td>0.007603</td>\n",
       "      <td>...</td>\n",
       "      <td>0.318841</td>\n",
       "      <td>0.057258</td>\n",
       "      <td>0.314802</td>\n",
       "      <td>0.020670</td>\n",
       "      <td>0.009503</td>\n",
       "      <td>0.008078</td>\n",
       "      <td>0.007603</td>\n",
       "      <td>0.001663</td>\n",
       "      <td>0.000475</td>\n",
       "      <td>0.001426</td>\n",
       "    </tr>\n",
       "    <tr>\n",
       "      <th>std</th>\n",
       "      <td>2437.608688</td>\n",
       "      <td>12.679381</td>\n",
       "      <td>0.114590</td>\n",
       "      <td>0.0</td>\n",
       "      <td>0.263547</td>\n",
       "      <td>0.233716</td>\n",
       "      <td>0.494867</td>\n",
       "      <td>0.021796</td>\n",
       "      <td>0.051061</td>\n",
       "      <td>0.086872</td>\n",
       "      <td>...</td>\n",
       "      <td>0.466082</td>\n",
       "      <td>0.232363</td>\n",
       "      <td>0.464492</td>\n",
       "      <td>0.142294</td>\n",
       "      <td>0.097033</td>\n",
       "      <td>0.089524</td>\n",
       "      <td>0.086872</td>\n",
       "      <td>0.040752</td>\n",
       "      <td>0.021796</td>\n",
       "      <td>0.037734</td>\n",
       "    </tr>\n",
       "    <tr>\n",
       "      <th>min</th>\n",
       "      <td>0.000000</td>\n",
       "      <td>72.110000</td>\n",
       "      <td>0.000000</td>\n",
       "      <td>0.0</td>\n",
       "      <td>0.000000</td>\n",
       "      <td>0.000000</td>\n",
       "      <td>0.000000</td>\n",
       "      <td>0.000000</td>\n",
       "      <td>0.000000</td>\n",
       "      <td>0.000000</td>\n",
       "      <td>...</td>\n",
       "      <td>0.000000</td>\n",
       "      <td>0.000000</td>\n",
       "      <td>0.000000</td>\n",
       "      <td>0.000000</td>\n",
       "      <td>0.000000</td>\n",
       "      <td>0.000000</td>\n",
       "      <td>0.000000</td>\n",
       "      <td>0.000000</td>\n",
       "      <td>0.000000</td>\n",
       "      <td>0.000000</td>\n",
       "    </tr>\n",
       "    <tr>\n",
       "      <th>25%</th>\n",
       "      <td>2095.000000</td>\n",
       "      <td>90.820000</td>\n",
       "      <td>0.000000</td>\n",
       "      <td>0.0</td>\n",
       "      <td>0.000000</td>\n",
       "      <td>0.000000</td>\n",
       "      <td>0.000000</td>\n",
       "      <td>0.000000</td>\n",
       "      <td>0.000000</td>\n",
       "      <td>0.000000</td>\n",
       "      <td>...</td>\n",
       "      <td>0.000000</td>\n",
       "      <td>0.000000</td>\n",
       "      <td>0.000000</td>\n",
       "      <td>0.000000</td>\n",
       "      <td>0.000000</td>\n",
       "      <td>0.000000</td>\n",
       "      <td>0.000000</td>\n",
       "      <td>0.000000</td>\n",
       "      <td>0.000000</td>\n",
       "      <td>0.000000</td>\n",
       "    </tr>\n",
       "    <tr>\n",
       "      <th>50%</th>\n",
       "      <td>4220.000000</td>\n",
       "      <td>99.150000</td>\n",
       "      <td>0.000000</td>\n",
       "      <td>0.0</td>\n",
       "      <td>0.000000</td>\n",
       "      <td>0.000000</td>\n",
       "      <td>0.000000</td>\n",
       "      <td>0.000000</td>\n",
       "      <td>0.000000</td>\n",
       "      <td>0.000000</td>\n",
       "      <td>...</td>\n",
       "      <td>0.000000</td>\n",
       "      <td>0.000000</td>\n",
       "      <td>0.000000</td>\n",
       "      <td>0.000000</td>\n",
       "      <td>0.000000</td>\n",
       "      <td>0.000000</td>\n",
       "      <td>0.000000</td>\n",
       "      <td>0.000000</td>\n",
       "      <td>0.000000</td>\n",
       "      <td>0.000000</td>\n",
       "    </tr>\n",
       "    <tr>\n",
       "      <th>75%</th>\n",
       "      <td>6314.000000</td>\n",
       "      <td>109.010000</td>\n",
       "      <td>0.000000</td>\n",
       "      <td>0.0</td>\n",
       "      <td>0.000000</td>\n",
       "      <td>0.000000</td>\n",
       "      <td>1.000000</td>\n",
       "      <td>0.000000</td>\n",
       "      <td>0.000000</td>\n",
       "      <td>0.000000</td>\n",
       "      <td>...</td>\n",
       "      <td>1.000000</td>\n",
       "      <td>0.000000</td>\n",
       "      <td>1.000000</td>\n",
       "      <td>0.000000</td>\n",
       "      <td>0.000000</td>\n",
       "      <td>0.000000</td>\n",
       "      <td>0.000000</td>\n",
       "      <td>0.000000</td>\n",
       "      <td>0.000000</td>\n",
       "      <td>0.000000</td>\n",
       "    </tr>\n",
       "    <tr>\n",
       "      <th>max</th>\n",
       "      <td>8417.000000</td>\n",
       "      <td>265.320000</td>\n",
       "      <td>1.000000</td>\n",
       "      <td>0.0</td>\n",
       "      <td>1.000000</td>\n",
       "      <td>1.000000</td>\n",
       "      <td>1.000000</td>\n",
       "      <td>1.000000</td>\n",
       "      <td>1.000000</td>\n",
       "      <td>1.000000</td>\n",
       "      <td>...</td>\n",
       "      <td>1.000000</td>\n",
       "      <td>1.000000</td>\n",
       "      <td>1.000000</td>\n",
       "      <td>1.000000</td>\n",
       "      <td>1.000000</td>\n",
       "      <td>1.000000</td>\n",
       "      <td>1.000000</td>\n",
       "      <td>1.000000</td>\n",
       "      <td>1.000000</td>\n",
       "      <td>1.000000</td>\n",
       "    </tr>\n",
       "  </tbody>\n",
       "</table>\n",
       "<p>8 rows × 370 columns</p>\n",
       "</div>"
      ],
      "text/plain": [
       "                ID            y          X10     X11          X12  \\\n",
       "count  4209.000000  4209.000000  4209.000000  4209.0  4209.000000   \n",
       "mean   4205.960798   100.669318     0.013305     0.0     0.075077   \n",
       "std    2437.608688    12.679381     0.114590     0.0     0.263547   \n",
       "min       0.000000    72.110000     0.000000     0.0     0.000000   \n",
       "25%    2095.000000    90.820000     0.000000     0.0     0.000000   \n",
       "50%    4220.000000    99.150000     0.000000     0.0     0.000000   \n",
       "75%    6314.000000   109.010000     0.000000     0.0     0.000000   \n",
       "max    8417.000000   265.320000     1.000000     0.0     1.000000   \n",
       "\n",
       "               X13          X14          X15          X16          X17  ...  \\\n",
       "count  4209.000000  4209.000000  4209.000000  4209.000000  4209.000000  ...   \n",
       "mean      0.057971     0.428130     0.000475     0.002613     0.007603  ...   \n",
       "std       0.233716     0.494867     0.021796     0.051061     0.086872  ...   \n",
       "min       0.000000     0.000000     0.000000     0.000000     0.000000  ...   \n",
       "25%       0.000000     0.000000     0.000000     0.000000     0.000000  ...   \n",
       "50%       0.000000     0.000000     0.000000     0.000000     0.000000  ...   \n",
       "75%       0.000000     1.000000     0.000000     0.000000     0.000000  ...   \n",
       "max       1.000000     1.000000     1.000000     1.000000     1.000000  ...   \n",
       "\n",
       "              X375         X376         X377         X378         X379  \\\n",
       "count  4209.000000  4209.000000  4209.000000  4209.000000  4209.000000   \n",
       "mean      0.318841     0.057258     0.314802     0.020670     0.009503   \n",
       "std       0.466082     0.232363     0.464492     0.142294     0.097033   \n",
       "min       0.000000     0.000000     0.000000     0.000000     0.000000   \n",
       "25%       0.000000     0.000000     0.000000     0.000000     0.000000   \n",
       "50%       0.000000     0.000000     0.000000     0.000000     0.000000   \n",
       "75%       1.000000     0.000000     1.000000     0.000000     0.000000   \n",
       "max       1.000000     1.000000     1.000000     1.000000     1.000000   \n",
       "\n",
       "              X380         X382         X383         X384         X385  \n",
       "count  4209.000000  4209.000000  4209.000000  4209.000000  4209.000000  \n",
       "mean      0.008078     0.007603     0.001663     0.000475     0.001426  \n",
       "std       0.089524     0.086872     0.040752     0.021796     0.037734  \n",
       "min       0.000000     0.000000     0.000000     0.000000     0.000000  \n",
       "25%       0.000000     0.000000     0.000000     0.000000     0.000000  \n",
       "50%       0.000000     0.000000     0.000000     0.000000     0.000000  \n",
       "75%       0.000000     0.000000     0.000000     0.000000     0.000000  \n",
       "max       1.000000     1.000000     1.000000     1.000000     1.000000  \n",
       "\n",
       "[8 rows x 370 columns]"
      ]
     },
     "execution_count": 6,
     "metadata": {},
     "output_type": "execute_result"
    }
   ],
   "source": [
    "traindata.describe()"
   ]
  },
  {
   "cell_type": "code",
   "execution_count": 7,
   "metadata": {
    "id": "dd5e46a3",
    "outputId": "e76524f7-1e95-4cd3-94cf-7492d1b3a39b"
   },
   "outputs": [
    {
     "name": "stdout",
     "output_type": "stream",
     "text": [
      "<class 'pandas.core.frame.DataFrame'>\n",
      "RangeIndex: 4209 entries, 0 to 4208\n",
      "Columns: 378 entries, ID to X385\n",
      "dtypes: float64(1), int64(369), object(8)\n",
      "memory usage: 12.1+ MB\n"
     ]
    }
   ],
   "source": [
    "traindata.info()"
   ]
  },
  {
   "cell_type": "code",
   "execution_count": 8,
   "metadata": {
    "id": "d9a90d5c"
   },
   "outputs": [],
   "source": [
    "train_numericcols=traindata.select_dtypes(include=np.number)"
   ]
  },
  {
   "cell_type": "code",
   "execution_count": 9,
   "metadata": {
    "id": "79de4278",
    "outputId": "365731c3-e7e0-498d-95b3-e85034c7a862"
   },
   "outputs": [
    {
     "name": "stdout",
     "output_type": "stream",
     "text": [
      "(4209, 370)\n"
     ]
    }
   ],
   "source": [
    "print(train_numericcols.shape)"
   ]
  },
  {
   "cell_type": "code",
   "execution_count": 10,
   "metadata": {},
   "outputs": [],
   "source": [
    "#1.If for any column(s), the variance is equal to zero, then you need to remove those variable(s)"
   ]
  },
  {
   "cell_type": "code",
   "execution_count": 11,
   "metadata": {
    "id": "f4413f7a"
   },
   "outputs": [],
   "source": [
    "colvar=[]\n",
    "for col in train_numericcols.columns:\n",
    "        colvar.append(train_numericcols[col].var())"
   ]
  },
  {
   "cell_type": "code",
   "execution_count": 12,
   "metadata": {
    "id": "aa56e4a9"
   },
   "outputs": [],
   "source": [
    "Column_Variance = pd.concat([pd.DataFrame(train_numericcols.columns),pd.DataFrame(colvar)],axis=1)\n",
    "Column_Variance.columns=['Col_Name','Variance']"
   ]
  },
  {
   "cell_type": "code",
   "execution_count": 13,
   "metadata": {
    "id": "f5b87fcb",
    "outputId": "8629097e-7b23-4f31-d14a-41eadb8cc257"
   },
   "outputs": [
    {
     "data": {
      "text/html": [
       "<div>\n",
       "<style scoped>\n",
       "    .dataframe tbody tr th:only-of-type {\n",
       "        vertical-align: middle;\n",
       "    }\n",
       "\n",
       "    .dataframe tbody tr th {\n",
       "        vertical-align: top;\n",
       "    }\n",
       "\n",
       "    .dataframe thead th {\n",
       "        text-align: right;\n",
       "    }\n",
       "</style>\n",
       "<table border=\"1\" class=\"dataframe\">\n",
       "  <thead>\n",
       "    <tr style=\"text-align: right;\">\n",
       "      <th></th>\n",
       "      <th>Col_Name</th>\n",
       "      <th>Variance</th>\n",
       "    </tr>\n",
       "  </thead>\n",
       "  <tbody>\n",
       "    <tr>\n",
       "      <th>0</th>\n",
       "      <td>ID</td>\n",
       "      <td>5.941936e+06</td>\n",
       "    </tr>\n",
       "    <tr>\n",
       "      <th>1</th>\n",
       "      <td>y</td>\n",
       "      <td>1.607667e+02</td>\n",
       "    </tr>\n",
       "    <tr>\n",
       "      <th>2</th>\n",
       "      <td>X10</td>\n",
       "      <td>1.313092e-02</td>\n",
       "    </tr>\n",
       "    <tr>\n",
       "      <th>3</th>\n",
       "      <td>X11</td>\n",
       "      <td>0.000000e+00</td>\n",
       "    </tr>\n",
       "    <tr>\n",
       "      <th>4</th>\n",
       "      <td>X12</td>\n",
       "      <td>6.945713e-02</td>\n",
       "    </tr>\n",
       "  </tbody>\n",
       "</table>\n",
       "</div>"
      ],
      "text/plain": [
       "  Col_Name      Variance\n",
       "0       ID  5.941936e+06\n",
       "1        y  1.607667e+02\n",
       "2      X10  1.313092e-02\n",
       "3      X11  0.000000e+00\n",
       "4      X12  6.945713e-02"
      ]
     },
     "execution_count": 13,
     "metadata": {},
     "output_type": "execute_result"
    }
   ],
   "source": [
    "Column_Variance.head() "
   ]
  },
  {
   "cell_type": "code",
   "execution_count": 14,
   "metadata": {
    "id": "d6efcaa2"
   },
   "outputs": [],
   "source": [
    "zero_var = Column_Variance[Column_Variance.Variance==0]"
   ]
  },
  {
   "cell_type": "code",
   "execution_count": 15,
   "metadata": {
    "id": "efdaf655",
    "outputId": "56a71ce8-a3ee-4167-d0af-62310c75263b"
   },
   "outputs": [
    {
     "data": {
      "text/plain": [
       "(12, 2)"
      ]
     },
     "execution_count": 15,
     "metadata": {},
     "output_type": "execute_result"
    }
   ],
   "source": [
    "zero_var.shape"
   ]
  },
  {
   "cell_type": "code",
   "execution_count": 16,
   "metadata": {
    "id": "f09f4fd8",
    "outputId": "65f3c105-c795-4074-e179-70f75af42ee8"
   },
   "outputs": [
    {
     "data": {
      "text/plain": [
       "array(['X11', 'X93', 'X107', 'X233', 'X235', 'X268', 'X289', 'X290',\n",
       "       'X293', 'X297', 'X330', 'X347'], dtype=object)"
      ]
     },
     "execution_count": 16,
     "metadata": {},
     "output_type": "execute_result"
    }
   ],
   "source": [
    "zero_var.Col_Name.unique()"
   ]
  },
  {
   "cell_type": "code",
   "execution_count": 17,
   "metadata": {
    "id": "be13ba41"
   },
   "outputs": [],
   "source": [
    "traindata=traindata.drop(['X11', 'X93', 'X107', 'X233', 'X235', 'X268', 'X289', 'X290',\n",
    "       'X293', 'X297', 'X330', 'X347','ID'],axis=1)"
   ]
  },
  {
   "cell_type": "code",
   "execution_count": 18,
   "metadata": {
    "id": "0c730e06",
    "outputId": "fd68db2f-d9b6-42c6-a46f-9d1a4847320c"
   },
   "outputs": [
    {
     "data": {
      "text/plain": [
       "(4209, 365)"
      ]
     },
     "execution_count": 18,
     "metadata": {},
     "output_type": "execute_result"
    }
   ],
   "source": [
    "traindata.shape"
   ]
  },
  {
   "cell_type": "code",
   "execution_count": 19,
   "metadata": {
    "id": "ab2b70ff",
    "outputId": "74902783-54a0-4297-d96d-f1bd657fbbfb"
   },
   "outputs": [
    {
     "data": {
      "text/plain": [
       "(4209, 370)"
      ]
     },
     "execution_count": 19,
     "metadata": {},
     "output_type": "execute_result"
    }
   ],
   "source": [
    "train_numericcols.shape"
   ]
  },
  {
   "cell_type": "code",
   "execution_count": 20,
   "metadata": {
    "id": "9e5edbde"
   },
   "outputs": [],
   "source": [
    "testdata=testdata.drop(['X11', 'X93', 'X107', 'X233', 'X235', 'X268', 'X289', 'X290',\n",
    "       'X293', 'X297', 'X330', 'X347','ID'],axis=1)"
   ]
  },
  {
   "cell_type": "code",
   "execution_count": 21,
   "metadata": {
    "id": "1f744754",
    "outputId": "1c13570a-2025-4339-88be-1efe1cbc110c"
   },
   "outputs": [
    {
     "data": {
      "text/plain": [
       "(4209, 364)"
      ]
     },
     "execution_count": 21,
     "metadata": {},
     "output_type": "execute_result"
    }
   ],
   "source": [
    "testdata.shape"
   ]
  },
  {
   "cell_type": "code",
   "execution_count": 22,
   "metadata": {},
   "outputs": [],
   "source": [
    "#2.Check for null and unique values for test and train sets."
   ]
  },
  {
   "cell_type": "code",
   "execution_count": 23,
   "metadata": {
    "id": "5e1c22c3",
    "outputId": "7bda105c-7af0-4f9e-9a48-83bc2c275285"
   },
   "outputs": [
    {
     "data": {
      "text/plain": [
       "X385    0\n",
       "X119    0\n",
       "X122    0\n",
       "X123    0\n",
       "X124    0\n",
       "       ..\n",
       "X256    0\n",
       "X257    0\n",
       "X258    0\n",
       "X259    0\n",
       "y       0\n",
       "Length: 365, dtype: int64"
      ]
     },
     "execution_count": 23,
     "metadata": {},
     "output_type": "execute_result"
    }
   ],
   "source": [
    "traindata.isna().sum().sort_values(ascending=False)"
   ]
  },
  {
   "cell_type": "code",
   "execution_count": 24,
   "metadata": {
    "id": "ac3feab5",
    "outputId": "a0a6599e-bed0-4a20-ef0f-c7fc51b42124"
   },
   "outputs": [
    {
     "data": {
      "text/plain": [
       "X385    0\n",
       "X120    0\n",
       "X123    0\n",
       "X124    0\n",
       "X125    0\n",
       "       ..\n",
       "X257    0\n",
       "X258    0\n",
       "X259    0\n",
       "X260    0\n",
       "X0      0\n",
       "Length: 364, dtype: int64"
      ]
     },
     "execution_count": 24,
     "metadata": {},
     "output_type": "execute_result"
    }
   ],
   "source": [
    "testdata.isna().sum().sort_values(ascending=False)"
   ]
  },
  {
   "cell_type": "code",
   "execution_count": 25,
   "metadata": {
    "id": "d78bcffd"
   },
   "outputs": [],
   "source": [
    "Train_Unique_Values=[]\n",
    "Train_Unique_Counts=[]\n",
    "for col in traindata.columns:\n",
    "    Train_Unique_Values.append(traindata[col].unique())\n",
    "    Train_Unique_Counts.append(len(traindata[col].unique()))"
   ]
  },
  {
   "cell_type": "code",
   "execution_count": 26,
   "metadata": {
    "id": "9d8e5221",
    "outputId": "1f4fa0db-45c0-491a-fb4a-b81be2070a4b"
   },
   "outputs": [
    {
     "data": {
      "text/plain": [
       "0      [130.81, 88.53, 76.26, 80.62, 78.02, 92.93, 12...\n",
       "1      [k, az, t, al, o, w, j, h, s, n, ay, f, x, y, ...\n",
       "2      [v, t, w, b, r, l, s, aa, c, a, e, h, z, j, o,...\n",
       "3      [at, av, n, e, as, aq, r, ai, ak, m, a, k, ae,...\n",
       "4                                  [a, e, c, f, d, b, g]\n",
       "                             ...                        \n",
       "360                                               [0, 1]\n",
       "361                                               [0, 1]\n",
       "362                                               [0, 1]\n",
       "363                                               [0, 1]\n",
       "364                                               [0, 1]\n",
       "Length: 365, dtype: object"
      ]
     },
     "execution_count": 26,
     "metadata": {},
     "output_type": "execute_result"
    }
   ],
   "source": [
    "pd.Series(Train_Unique_Values)"
   ]
  },
  {
   "cell_type": "code",
   "execution_count": 27,
   "metadata": {
    "id": "d365d5b3",
    "outputId": "300bda9a-8874-4012-9300-529f432e25db"
   },
   "outputs": [
    {
     "data": {
      "text/plain": [
       "0      2545\n",
       "1        47\n",
       "2        27\n",
       "3        44\n",
       "4         7\n",
       "       ... \n",
       "360       2\n",
       "361       2\n",
       "362       2\n",
       "363       2\n",
       "364       2\n",
       "Length: 365, dtype: int64"
      ]
     },
     "execution_count": 27,
     "metadata": {},
     "output_type": "execute_result"
    }
   ],
   "source": [
    "pd.Series(Train_Unique_Counts)"
   ]
  },
  {
   "cell_type": "code",
   "execution_count": 28,
   "metadata": {
    "id": "005ca915"
   },
   "outputs": [],
   "source": [
    "uniquetrain = pd.concat([pd.DataFrame(traindata.columns),pd.Series(Train_Unique_Values),pd.Series(Train_Unique_Counts)],axis=1)\n",
    "uniquetrain.columns=['Col_Name','Unique_Values','Unique_Counts']\n",
    "uniquetrain.set_index('Col_Name',inplace=True)"
   ]
  },
  {
   "cell_type": "code",
   "execution_count": 29,
   "metadata": {
    "id": "ca99d628",
    "outputId": "2807435c-99db-44e1-afdb-1c5fea3606cf"
   },
   "outputs": [
    {
     "data": {
      "text/html": [
       "<div>\n",
       "<style scoped>\n",
       "    .dataframe tbody tr th:only-of-type {\n",
       "        vertical-align: middle;\n",
       "    }\n",
       "\n",
       "    .dataframe tbody tr th {\n",
       "        vertical-align: top;\n",
       "    }\n",
       "\n",
       "    .dataframe thead th {\n",
       "        text-align: right;\n",
       "    }\n",
       "</style>\n",
       "<table border=\"1\" class=\"dataframe\">\n",
       "  <thead>\n",
       "    <tr style=\"text-align: right;\">\n",
       "      <th></th>\n",
       "      <th>Unique_Values</th>\n",
       "      <th>Unique_Counts</th>\n",
       "    </tr>\n",
       "    <tr>\n",
       "      <th>Col_Name</th>\n",
       "      <th></th>\n",
       "      <th></th>\n",
       "    </tr>\n",
       "  </thead>\n",
       "  <tbody>\n",
       "    <tr>\n",
       "      <th>y</th>\n",
       "      <td>[130.81, 88.53, 76.26, 80.62, 78.02, 92.93, 12...</td>\n",
       "      <td>2545</td>\n",
       "    </tr>\n",
       "    <tr>\n",
       "      <th>X0</th>\n",
       "      <td>[k, az, t, al, o, w, j, h, s, n, ay, f, x, y, ...</td>\n",
       "      <td>47</td>\n",
       "    </tr>\n",
       "    <tr>\n",
       "      <th>X1</th>\n",
       "      <td>[v, t, w, b, r, l, s, aa, c, a, e, h, z, j, o,...</td>\n",
       "      <td>27</td>\n",
       "    </tr>\n",
       "    <tr>\n",
       "      <th>X2</th>\n",
       "      <td>[at, av, n, e, as, aq, r, ai, ak, m, a, k, ae,...</td>\n",
       "      <td>44</td>\n",
       "    </tr>\n",
       "    <tr>\n",
       "      <th>X3</th>\n",
       "      <td>[a, e, c, f, d, b, g]</td>\n",
       "      <td>7</td>\n",
       "    </tr>\n",
       "    <tr>\n",
       "      <th>X4</th>\n",
       "      <td>[d, b, c, a]</td>\n",
       "      <td>4</td>\n",
       "    </tr>\n",
       "    <tr>\n",
       "      <th>X5</th>\n",
       "      <td>[u, y, x, h, g, f, j, i, d, c, af, ag, ab, ac,...</td>\n",
       "      <td>29</td>\n",
       "    </tr>\n",
       "    <tr>\n",
       "      <th>X6</th>\n",
       "      <td>[j, l, d, h, i, a, g, c, k, e, f, b]</td>\n",
       "      <td>12</td>\n",
       "    </tr>\n",
       "    <tr>\n",
       "      <th>X8</th>\n",
       "      <td>[o, x, e, n, s, a, h, p, m, k, d, i, v, j, b, ...</td>\n",
       "      <td>25</td>\n",
       "    </tr>\n",
       "    <tr>\n",
       "      <th>X10</th>\n",
       "      <td>[0, 1]</td>\n",
       "      <td>2</td>\n",
       "    </tr>\n",
       "    <tr>\n",
       "      <th>X12</th>\n",
       "      <td>[0, 1]</td>\n",
       "      <td>2</td>\n",
       "    </tr>\n",
       "    <tr>\n",
       "      <th>X13</th>\n",
       "      <td>[1, 0]</td>\n",
       "      <td>2</td>\n",
       "    </tr>\n",
       "    <tr>\n",
       "      <th>X14</th>\n",
       "      <td>[0, 1]</td>\n",
       "      <td>2</td>\n",
       "    </tr>\n",
       "    <tr>\n",
       "      <th>X15</th>\n",
       "      <td>[0, 1]</td>\n",
       "      <td>2</td>\n",
       "    </tr>\n",
       "    <tr>\n",
       "      <th>X16</th>\n",
       "      <td>[0, 1]</td>\n",
       "      <td>2</td>\n",
       "    </tr>\n",
       "  </tbody>\n",
       "</table>\n",
       "</div>"
      ],
      "text/plain": [
       "                                              Unique_Values  Unique_Counts\n",
       "Col_Name                                                                  \n",
       "y         [130.81, 88.53, 76.26, 80.62, 78.02, 92.93, 12...           2545\n",
       "X0        [k, az, t, al, o, w, j, h, s, n, ay, f, x, y, ...             47\n",
       "X1        [v, t, w, b, r, l, s, aa, c, a, e, h, z, j, o,...             27\n",
       "X2        [at, av, n, e, as, aq, r, ai, ak, m, a, k, ae,...             44\n",
       "X3                                    [a, e, c, f, d, b, g]              7\n",
       "X4                                             [d, b, c, a]              4\n",
       "X5        [u, y, x, h, g, f, j, i, d, c, af, ag, ab, ac,...             29\n",
       "X6                     [j, l, d, h, i, a, g, c, k, e, f, b]             12\n",
       "X8        [o, x, e, n, s, a, h, p, m, k, d, i, v, j, b, ...             25\n",
       "X10                                                  [0, 1]              2\n",
       "X12                                                  [0, 1]              2\n",
       "X13                                                  [1, 0]              2\n",
       "X14                                                  [0, 1]              2\n",
       "X15                                                  [0, 1]              2\n",
       "X16                                                  [0, 1]              2"
      ]
     },
     "execution_count": 29,
     "metadata": {},
     "output_type": "execute_result"
    }
   ],
   "source": [
    "uniquetrain.head(15)"
   ]
  },
  {
   "cell_type": "code",
   "execution_count": 30,
   "metadata": {
    "id": "be4d0d95"
   },
   "outputs": [],
   "source": [
    "Sorted = uniquetrain.sort_values('Unique_Counts',ascending=False)"
   ]
  },
  {
   "cell_type": "code",
   "execution_count": 31,
   "metadata": {
    "id": "d2e27038",
    "outputId": "20a16227-da73-4f92-a321-c77598712cb6"
   },
   "outputs": [
    {
     "data": {
      "text/html": [
       "<div>\n",
       "<style scoped>\n",
       "    .dataframe tbody tr th:only-of-type {\n",
       "        vertical-align: middle;\n",
       "    }\n",
       "\n",
       "    .dataframe tbody tr th {\n",
       "        vertical-align: top;\n",
       "    }\n",
       "\n",
       "    .dataframe thead th {\n",
       "        text-align: right;\n",
       "    }\n",
       "</style>\n",
       "<table border=\"1\" class=\"dataframe\">\n",
       "  <thead>\n",
       "    <tr style=\"text-align: right;\">\n",
       "      <th></th>\n",
       "      <th>Unique_Values</th>\n",
       "      <th>Unique_Counts</th>\n",
       "    </tr>\n",
       "    <tr>\n",
       "      <th>Col_Name</th>\n",
       "      <th></th>\n",
       "      <th></th>\n",
       "    </tr>\n",
       "  </thead>\n",
       "  <tbody>\n",
       "    <tr>\n",
       "      <th>y</th>\n",
       "      <td>[130.81, 88.53, 76.26, 80.62, 78.02, 92.93, 12...</td>\n",
       "      <td>2545</td>\n",
       "    </tr>\n",
       "    <tr>\n",
       "      <th>X0</th>\n",
       "      <td>[k, az, t, al, o, w, j, h, s, n, ay, f, x, y, ...</td>\n",
       "      <td>47</td>\n",
       "    </tr>\n",
       "    <tr>\n",
       "      <th>X2</th>\n",
       "      <td>[at, av, n, e, as, aq, r, ai, ak, m, a, k, ae,...</td>\n",
       "      <td>44</td>\n",
       "    </tr>\n",
       "    <tr>\n",
       "      <th>X5</th>\n",
       "      <td>[u, y, x, h, g, f, j, i, d, c, af, ag, ab, ac,...</td>\n",
       "      <td>29</td>\n",
       "    </tr>\n",
       "    <tr>\n",
       "      <th>X1</th>\n",
       "      <td>[v, t, w, b, r, l, s, aa, c, a, e, h, z, j, o,...</td>\n",
       "      <td>27</td>\n",
       "    </tr>\n",
       "    <tr>\n",
       "      <th>X8</th>\n",
       "      <td>[o, x, e, n, s, a, h, p, m, k, d, i, v, j, b, ...</td>\n",
       "      <td>25</td>\n",
       "    </tr>\n",
       "    <tr>\n",
       "      <th>X6</th>\n",
       "      <td>[j, l, d, h, i, a, g, c, k, e, f, b]</td>\n",
       "      <td>12</td>\n",
       "    </tr>\n",
       "    <tr>\n",
       "      <th>X3</th>\n",
       "      <td>[a, e, c, f, d, b, g]</td>\n",
       "      <td>7</td>\n",
       "    </tr>\n",
       "    <tr>\n",
       "      <th>X4</th>\n",
       "      <td>[d, b, c, a]</td>\n",
       "      <td>4</td>\n",
       "    </tr>\n",
       "    <tr>\n",
       "      <th>X259</th>\n",
       "      <td>[0, 1]</td>\n",
       "      <td>2</td>\n",
       "    </tr>\n",
       "    <tr>\n",
       "      <th>X256</th>\n",
       "      <td>[0, 1]</td>\n",
       "      <td>2</td>\n",
       "    </tr>\n",
       "    <tr>\n",
       "      <th>X257</th>\n",
       "      <td>[0, 1]</td>\n",
       "      <td>2</td>\n",
       "    </tr>\n",
       "    <tr>\n",
       "      <th>X258</th>\n",
       "      <td>[0, 1]</td>\n",
       "      <td>2</td>\n",
       "    </tr>\n",
       "    <tr>\n",
       "      <th>X263</th>\n",
       "      <td>[1, 0]</td>\n",
       "      <td>2</td>\n",
       "    </tr>\n",
       "    <tr>\n",
       "      <th>X260</th>\n",
       "      <td>[0, 1]</td>\n",
       "      <td>2</td>\n",
       "    </tr>\n",
       "    <tr>\n",
       "      <th>X261</th>\n",
       "      <td>[0, 1]</td>\n",
       "      <td>2</td>\n",
       "    </tr>\n",
       "    <tr>\n",
       "      <th>X262</th>\n",
       "      <td>[1, 0]</td>\n",
       "      <td>2</td>\n",
       "    </tr>\n",
       "    <tr>\n",
       "      <th>X254</th>\n",
       "      <td>[0, 1]</td>\n",
       "      <td>2</td>\n",
       "    </tr>\n",
       "    <tr>\n",
       "      <th>X255</th>\n",
       "      <td>[0, 1]</td>\n",
       "      <td>2</td>\n",
       "    </tr>\n",
       "    <tr>\n",
       "      <th>X250</th>\n",
       "      <td>[0, 1]</td>\n",
       "      <td>2</td>\n",
       "    </tr>\n",
       "  </tbody>\n",
       "</table>\n",
       "</div>"
      ],
      "text/plain": [
       "                                              Unique_Values  Unique_Counts\n",
       "Col_Name                                                                  \n",
       "y         [130.81, 88.53, 76.26, 80.62, 78.02, 92.93, 12...           2545\n",
       "X0        [k, az, t, al, o, w, j, h, s, n, ay, f, x, y, ...             47\n",
       "X2        [at, av, n, e, as, aq, r, ai, ak, m, a, k, ae,...             44\n",
       "X5        [u, y, x, h, g, f, j, i, d, c, af, ag, ab, ac,...             29\n",
       "X1        [v, t, w, b, r, l, s, aa, c, a, e, h, z, j, o,...             27\n",
       "X8        [o, x, e, n, s, a, h, p, m, k, d, i, v, j, b, ...             25\n",
       "X6                     [j, l, d, h, i, a, g, c, k, e, f, b]             12\n",
       "X3                                    [a, e, c, f, d, b, g]              7\n",
       "X4                                             [d, b, c, a]              4\n",
       "X259                                                 [0, 1]              2\n",
       "X256                                                 [0, 1]              2\n",
       "X257                                                 [0, 1]              2\n",
       "X258                                                 [0, 1]              2\n",
       "X263                                                 [1, 0]              2\n",
       "X260                                                 [0, 1]              2\n",
       "X261                                                 [0, 1]              2\n",
       "X262                                                 [1, 0]              2\n",
       "X254                                                 [0, 1]              2\n",
       "X255                                                 [0, 1]              2\n",
       "X250                                                 [0, 1]              2"
      ]
     },
     "execution_count": 31,
     "metadata": {},
     "output_type": "execute_result"
    }
   ],
   "source": [
    "Sorted.head(20)"
   ]
  },
  {
   "cell_type": "code",
   "execution_count": 32,
   "metadata": {
    "id": "f6634811",
    "outputId": "7ec30f17-5163-4bdb-ebe2-71876e86865b"
   },
   "outputs": [
    {
     "data": {
      "text/plain": [
       "array(['v', 't', 'w', 'b', 'r', 'l', 's', 'aa', 'c', 'a', 'e', 'h', 'z',\n",
       "       'j', 'o', 'u', 'p', 'n', 'i', 'y', 'd', 'f', 'm', 'k', 'g', 'q',\n",
       "       'ab'], dtype=object)"
      ]
     },
     "execution_count": 32,
     "metadata": {},
     "output_type": "execute_result"
    }
   ],
   "source": [
    "uniquetrain.Unique_Values.loc['X1']"
   ]
  },
  {
   "cell_type": "code",
   "execution_count": 33,
   "metadata": {
    "id": "9645bbfb",
    "outputId": "8f5d906a-7ce6-4f8f-be0f-3847507e751f"
   },
   "outputs": [
    {
     "data": {
      "text/plain": [
       "27"
      ]
     },
     "execution_count": 33,
     "metadata": {},
     "output_type": "execute_result"
    }
   ],
   "source": [
    "uniquetrain.Unique_Counts.loc['X1']"
   ]
  },
  {
   "cell_type": "code",
   "execution_count": 34,
   "metadata": {
    "id": "1dcd83ad"
   },
   "outputs": [],
   "source": [
    "Test_Unique_Values=[]\n",
    "Test_Unique_Counts=[]\n",
    "for col in testdata.columns:\n",
    "    Test_Unique_Values.append(testdata[col].unique())\n",
    "    Test_Unique_Counts.append(len(testdata[col].unique()))"
   ]
  },
  {
   "cell_type": "code",
   "execution_count": 35,
   "metadata": {
    "id": "66c11a12"
   },
   "outputs": [],
   "source": [
    "uniquetest = pd.concat([pd.DataFrame(testdata.columns),pd.Series(Test_Unique_Values),pd.Series(Test_Unique_Counts)],axis=1)\n",
    "uniquetest.columns=['Col_Name','Unique_Values','Unique_Counts']\n",
    "uniquetest.set_index('Col_Name',inplace=True)"
   ]
  },
  {
   "cell_type": "code",
   "execution_count": 36,
   "metadata": {
    "id": "d15dfd1b",
    "outputId": "9631b9ed-7578-4f1f-acd3-301c0a784d0a"
   },
   "outputs": [
    {
     "data": {
      "text/html": [
       "<div>\n",
       "<style scoped>\n",
       "    .dataframe tbody tr th:only-of-type {\n",
       "        vertical-align: middle;\n",
       "    }\n",
       "\n",
       "    .dataframe tbody tr th {\n",
       "        vertical-align: top;\n",
       "    }\n",
       "\n",
       "    .dataframe thead th {\n",
       "        text-align: right;\n",
       "    }\n",
       "</style>\n",
       "<table border=\"1\" class=\"dataframe\">\n",
       "  <thead>\n",
       "    <tr style=\"text-align: right;\">\n",
       "      <th></th>\n",
       "      <th>Unique_Values</th>\n",
       "      <th>Unique_Counts</th>\n",
       "    </tr>\n",
       "    <tr>\n",
       "      <th>Col_Name</th>\n",
       "      <th></th>\n",
       "      <th></th>\n",
       "    </tr>\n",
       "  </thead>\n",
       "  <tbody>\n",
       "    <tr>\n",
       "      <th>X0</th>\n",
       "      <td>[az, t, w, y, x, f, ap, o, ay, al, h, z, aj, d...</td>\n",
       "      <td>49</td>\n",
       "    </tr>\n",
       "    <tr>\n",
       "      <th>X1</th>\n",
       "      <td>[v, b, l, s, aa, r, a, i, p, c, o, m, z, e, h,...</td>\n",
       "      <td>27</td>\n",
       "    </tr>\n",
       "    <tr>\n",
       "      <th>X2</th>\n",
       "      <td>[n, ai, as, ae, s, b, e, ak, m, a, aq, ag, r, ...</td>\n",
       "      <td>45</td>\n",
       "    </tr>\n",
       "    <tr>\n",
       "      <th>X3</th>\n",
       "      <td>[f, a, c, e, d, g, b]</td>\n",
       "      <td>7</td>\n",
       "    </tr>\n",
       "    <tr>\n",
       "      <th>X4</th>\n",
       "      <td>[d, b, a, c]</td>\n",
       "      <td>4</td>\n",
       "    </tr>\n",
       "    <tr>\n",
       "      <th>X5</th>\n",
       "      <td>[t, b, a, z, y, x, h, g, f, j, i, d, c, af, ag...</td>\n",
       "      <td>32</td>\n",
       "    </tr>\n",
       "    <tr>\n",
       "      <th>X6</th>\n",
       "      <td>[a, g, j, l, i, d, f, h, c, k, e, b]</td>\n",
       "      <td>12</td>\n",
       "    </tr>\n",
       "    <tr>\n",
       "      <th>X8</th>\n",
       "      <td>[w, y, j, n, m, s, a, v, r, o, t, h, c, k, p, ...</td>\n",
       "      <td>25</td>\n",
       "    </tr>\n",
       "    <tr>\n",
       "      <th>X10</th>\n",
       "      <td>[0, 1]</td>\n",
       "      <td>2</td>\n",
       "    </tr>\n",
       "    <tr>\n",
       "      <th>X12</th>\n",
       "      <td>[0, 1]</td>\n",
       "      <td>2</td>\n",
       "    </tr>\n",
       "  </tbody>\n",
       "</table>\n",
       "</div>"
      ],
      "text/plain": [
       "                                              Unique_Values  Unique_Counts\n",
       "Col_Name                                                                  \n",
       "X0        [az, t, w, y, x, f, ap, o, ay, al, h, z, aj, d...             49\n",
       "X1        [v, b, l, s, aa, r, a, i, p, c, o, m, z, e, h,...             27\n",
       "X2        [n, ai, as, ae, s, b, e, ak, m, a, aq, ag, r, ...             45\n",
       "X3                                    [f, a, c, e, d, g, b]              7\n",
       "X4                                             [d, b, a, c]              4\n",
       "X5        [t, b, a, z, y, x, h, g, f, j, i, d, c, af, ag...             32\n",
       "X6                     [a, g, j, l, i, d, f, h, c, k, e, b]             12\n",
       "X8        [w, y, j, n, m, s, a, v, r, o, t, h, c, k, p, ...             25\n",
       "X10                                                  [0, 1]              2\n",
       "X12                                                  [0, 1]              2"
      ]
     },
     "execution_count": 36,
     "metadata": {},
     "output_type": "execute_result"
    }
   ],
   "source": [
    "uniquetest.head(10)"
   ]
  },
  {
   "cell_type": "code",
   "execution_count": 37,
   "metadata": {
    "id": "e7a4fe86",
    "outputId": "1f0f1ab7-b1b3-4970-ae39-1890a89e0c9b"
   },
   "outputs": [
    {
     "data": {
      "text/plain": [
       "array(['d', 'b', 'a', 'c'], dtype=object)"
      ]
     },
     "execution_count": 37,
     "metadata": {},
     "output_type": "execute_result"
    }
   ],
   "source": [
    "uniquetest.Unique_Values.loc['X4']"
   ]
  },
  {
   "cell_type": "code",
   "execution_count": 38,
   "metadata": {
    "id": "f1803d7b",
    "outputId": "05f9665b-07e9-4137-9890-8c9e3a051c15"
   },
   "outputs": [
    {
     "data": {
      "text/plain": [
       "4"
      ]
     },
     "execution_count": 38,
     "metadata": {},
     "output_type": "execute_result"
    }
   ],
   "source": [
    "uniquetest.Unique_Counts.loc['X4']"
   ]
  },
  {
   "cell_type": "code",
   "execution_count": 39,
   "metadata": {},
   "outputs": [],
   "source": [
    "#3.Apply label encoder."
   ]
  },
  {
   "cell_type": "code",
   "execution_count": 40,
   "metadata": {
    "id": "1ec3c024",
    "outputId": "c7500f70-fea8-4728-f719-4a89cf7ef5e2"
   },
   "outputs": [
    {
     "data": {
      "text/plain": [
       "Index(['X0', 'X1', 'X2', 'X3', 'X4', 'X5', 'X6', 'X8'], dtype='object')"
      ]
     },
     "execution_count": 40,
     "metadata": {},
     "output_type": "execute_result"
    }
   ],
   "source": [
    "traindata.select_dtypes(include=['object']).columns"
   ]
  },
  {
   "cell_type": "code",
   "execution_count": 41,
   "metadata": {
    "id": "5723c6b7",
    "outputId": "bb9fe1ee-7337-4c10-fd3d-b5fb41f1014b"
   },
   "outputs": [
    {
     "data": {
      "text/plain": [
       "Index(['X0', 'X1', 'X2', 'X3', 'X4', 'X5', 'X6', 'X8'], dtype='object')"
      ]
     },
     "execution_count": 41,
     "metadata": {},
     "output_type": "execute_result"
    }
   ],
   "source": [
    "testdata.select_dtypes(include=['object']).columns"
   ]
  },
  {
   "cell_type": "code",
   "execution_count": 42,
   "metadata": {
    "id": "c9179e19",
    "outputId": "0edf0b54-18a4-43e1-dc7a-10b2ef8fd711"
   },
   "outputs": [
    {
     "name": "stdout",
     "output_type": "stream",
     "text": [
      "(47,)\n",
      "(49,)\n"
     ]
    }
   ],
   "source": [
    "print(traindata.X0.unique().shape)\n",
    "print(testdata.X0.unique().shape)"
   ]
  },
  {
   "cell_type": "code",
   "execution_count": 43,
   "metadata": {
    "id": "ce0e9975",
    "outputId": "8385efd0-2fb5-4cbe-e28e-9bc95e0c16e5"
   },
   "outputs": [
    {
     "name": "stdout",
     "output_type": "stream",
     "text": [
      "(44,)\n",
      "(45,)\n"
     ]
    }
   ],
   "source": [
    "print(traindata.X2.unique().shape)\n",
    "print(testdata.X2.unique().shape)"
   ]
  },
  {
   "cell_type": "code",
   "execution_count": 44,
   "metadata": {
    "id": "2cf369f6",
    "outputId": "154606d5-5fdf-4101-a147-86c78fe566ee"
   },
   "outputs": [
    {
     "name": "stdout",
     "output_type": "stream",
     "text": [
      "(29,)\n",
      "(32,)\n"
     ]
    }
   ],
   "source": [
    "print(traindata.X5.unique().shape)\n",
    "print(testdata.X5.unique().shape)"
   ]
  },
  {
   "cell_type": "code",
   "execution_count": 45,
   "metadata": {
    "id": "8d6f52ac"
   },
   "outputs": [],
   "source": [
    "objectcols_train=traindata.select_dtypes(include=['object'])\n",
    "objectcols_test=testdata.select_dtypes(include=['object'])\n",
    "\n",
    "\n",
    "numericcols_train=traindata.select_dtypes(include=np.number)\n",
    "numericcols_test=testdata.select_dtypes(include=np.number)"
   ]
  },
  {
   "cell_type": "code",
   "execution_count": 46,
   "metadata": {
    "id": "a07c3ca7",
    "outputId": "f1fbc32d-3b42-48be-9f43-8000a4d08db4"
   },
   "outputs": [
    {
     "data": {
      "text/plain": [
       "Index(['X0', 'X1', 'X2', 'X3', 'X4', 'X5', 'X6', 'X8'], dtype='object')"
      ]
     },
     "execution_count": 46,
     "metadata": {},
     "output_type": "execute_result"
    }
   ],
   "source": [
    "objectcols_train.columns"
   ]
  },
  {
   "cell_type": "code",
   "execution_count": 47,
   "metadata": {
    "id": "e8733b80"
   },
   "outputs": [],
   "source": [
    "from sklearn.preprocessing import LabelEncoder"
   ]
  },
  {
   "cell_type": "code",
   "execution_count": 48,
   "metadata": {
    "id": "6a76eb9e"
   },
   "outputs": [],
   "source": [
    "le=LabelEncoder()"
   ]
  },
  {
   "cell_type": "code",
   "execution_count": 49,
   "metadata": {
    "id": "d5434869",
    "outputId": "417bca20-ea7c-4522-bd6b-fabe07ce72f8"
   },
   "outputs": [
    {
     "name": "stderr",
     "output_type": "stream",
     "text": [
      "<ipython-input-49-1f509e3aac9a>:2: SettingWithCopyWarning: \n",
      "A value is trying to be set on a copy of a slice from a DataFrame.\n",
      "Try using .loc[row_indexer,col_indexer] = value instead\n",
      "\n",
      "See the caveats in the documentation: https://pandas.pydata.org/pandas-docs/stable/user_guide/indexing.html#returning-a-view-versus-a-copy\n",
      "  objectcols_train[col] = le.fit_transform(objectcols_train[col])\n",
      "<ipython-input-49-1f509e3aac9a>:3: SettingWithCopyWarning: \n",
      "A value is trying to be set on a copy of a slice from a DataFrame.\n",
      "Try using .loc[row_indexer,col_indexer] = value instead\n",
      "\n",
      "See the caveats in the documentation: https://pandas.pydata.org/pandas-docs/stable/user_guide/indexing.html#returning-a-view-versus-a-copy\n",
      "  objectcols_test[col] = objectcols_test[col].map(lambda x : 'misc' if x not in le.classes_ else x)\n",
      "<ipython-input-49-1f509e3aac9a>:5: SettingWithCopyWarning: \n",
      "A value is trying to be set on a copy of a slice from a DataFrame.\n",
      "Try using .loc[row_indexer,col_indexer] = value instead\n",
      "\n",
      "See the caveats in the documentation: https://pandas.pydata.org/pandas-docs/stable/user_guide/indexing.html#returning-a-view-versus-a-copy\n",
      "  objectcols_test[col] = le.transform(objectcols_test[col])\n"
     ]
    }
   ],
   "source": [
    "for col in objectcols_train.columns:\n",
    "    objectcols_train[col] = le.fit_transform(objectcols_train[col])\n",
    "    objectcols_test[col] = objectcols_test[col].map(lambda x : 'misc' if x not in le.classes_ else x)\n",
    "    le.classes_ = np.append(le.classes_, 'misc')\n",
    "    objectcols_test[col] = le.transform(objectcols_test[col])"
   ]
  },
  {
   "cell_type": "code",
   "execution_count": 50,
   "metadata": {
    "id": "6c32bba3",
    "outputId": "7c79b2bf-fedc-4a93-d4cd-06f642c620ae"
   },
   "outputs": [
    {
     "data": {
      "text/html": [
       "<div>\n",
       "<style scoped>\n",
       "    .dataframe tbody tr th:only-of-type {\n",
       "        vertical-align: middle;\n",
       "    }\n",
       "\n",
       "    .dataframe tbody tr th {\n",
       "        vertical-align: top;\n",
       "    }\n",
       "\n",
       "    .dataframe thead th {\n",
       "        text-align: right;\n",
       "    }\n",
       "</style>\n",
       "<table border=\"1\" class=\"dataframe\">\n",
       "  <thead>\n",
       "    <tr style=\"text-align: right;\">\n",
       "      <th></th>\n",
       "      <th>X0</th>\n",
       "      <th>X1</th>\n",
       "      <th>X2</th>\n",
       "      <th>X3</th>\n",
       "      <th>X4</th>\n",
       "      <th>X5</th>\n",
       "      <th>X6</th>\n",
       "      <th>X8</th>\n",
       "    </tr>\n",
       "  </thead>\n",
       "  <tbody>\n",
       "    <tr>\n",
       "      <th>0</th>\n",
       "      <td>32</td>\n",
       "      <td>23</td>\n",
       "      <td>17</td>\n",
       "      <td>0</td>\n",
       "      <td>3</td>\n",
       "      <td>24</td>\n",
       "      <td>9</td>\n",
       "      <td>14</td>\n",
       "    </tr>\n",
       "    <tr>\n",
       "      <th>1</th>\n",
       "      <td>32</td>\n",
       "      <td>21</td>\n",
       "      <td>19</td>\n",
       "      <td>4</td>\n",
       "      <td>3</td>\n",
       "      <td>28</td>\n",
       "      <td>11</td>\n",
       "      <td>14</td>\n",
       "    </tr>\n",
       "    <tr>\n",
       "      <th>2</th>\n",
       "      <td>20</td>\n",
       "      <td>24</td>\n",
       "      <td>34</td>\n",
       "      <td>2</td>\n",
       "      <td>3</td>\n",
       "      <td>27</td>\n",
       "      <td>9</td>\n",
       "      <td>23</td>\n",
       "    </tr>\n",
       "    <tr>\n",
       "      <th>3</th>\n",
       "      <td>20</td>\n",
       "      <td>21</td>\n",
       "      <td>34</td>\n",
       "      <td>5</td>\n",
       "      <td>3</td>\n",
       "      <td>27</td>\n",
       "      <td>11</td>\n",
       "      <td>4</td>\n",
       "    </tr>\n",
       "    <tr>\n",
       "      <th>4</th>\n",
       "      <td>20</td>\n",
       "      <td>23</td>\n",
       "      <td>34</td>\n",
       "      <td>5</td>\n",
       "      <td>3</td>\n",
       "      <td>12</td>\n",
       "      <td>3</td>\n",
       "      <td>13</td>\n",
       "    </tr>\n",
       "  </tbody>\n",
       "</table>\n",
       "</div>"
      ],
      "text/plain": [
       "   X0  X1  X2  X3  X4  X5  X6  X8\n",
       "0  32  23  17   0   3  24   9  14\n",
       "1  32  21  19   4   3  28  11  14\n",
       "2  20  24  34   2   3  27   9  23\n",
       "3  20  21  34   5   3  27  11   4\n",
       "4  20  23  34   5   3  12   3  13"
      ]
     },
     "execution_count": 50,
     "metadata": {},
     "output_type": "execute_result"
    }
   ],
   "source": [
    "objectcols_train.head()"
   ]
  },
  {
   "cell_type": "code",
   "execution_count": 51,
   "metadata": {
    "id": "ea87cf61",
    "outputId": "7a10bfbd-ded3-4b97-b483-915c7ecd603b"
   },
   "outputs": [
    {
     "data": {
      "text/html": [
       "<div>\n",
       "<style scoped>\n",
       "    .dataframe tbody tr th:only-of-type {\n",
       "        vertical-align: middle;\n",
       "    }\n",
       "\n",
       "    .dataframe tbody tr th {\n",
       "        vertical-align: top;\n",
       "    }\n",
       "\n",
       "    .dataframe thead th {\n",
       "        text-align: right;\n",
       "    }\n",
       "</style>\n",
       "<table border=\"1\" class=\"dataframe\">\n",
       "  <thead>\n",
       "    <tr style=\"text-align: right;\">\n",
       "      <th></th>\n",
       "      <th>X0</th>\n",
       "      <th>X1</th>\n",
       "      <th>X2</th>\n",
       "      <th>X3</th>\n",
       "      <th>X4</th>\n",
       "      <th>X5</th>\n",
       "      <th>X6</th>\n",
       "      <th>X8</th>\n",
       "    </tr>\n",
       "  </thead>\n",
       "  <tbody>\n",
       "    <tr>\n",
       "      <th>0</th>\n",
       "      <td>20</td>\n",
       "      <td>23</td>\n",
       "      <td>34</td>\n",
       "      <td>5</td>\n",
       "      <td>3</td>\n",
       "      <td>29</td>\n",
       "      <td>0</td>\n",
       "      <td>22</td>\n",
       "    </tr>\n",
       "    <tr>\n",
       "      <th>1</th>\n",
       "      <td>40</td>\n",
       "      <td>3</td>\n",
       "      <td>7</td>\n",
       "      <td>0</td>\n",
       "      <td>3</td>\n",
       "      <td>29</td>\n",
       "      <td>6</td>\n",
       "      <td>24</td>\n",
       "    </tr>\n",
       "    <tr>\n",
       "      <th>2</th>\n",
       "      <td>20</td>\n",
       "      <td>23</td>\n",
       "      <td>16</td>\n",
       "      <td>5</td>\n",
       "      <td>3</td>\n",
       "      <td>29</td>\n",
       "      <td>9</td>\n",
       "      <td>9</td>\n",
       "    </tr>\n",
       "    <tr>\n",
       "      <th>3</th>\n",
       "      <td>20</td>\n",
       "      <td>13</td>\n",
       "      <td>34</td>\n",
       "      <td>5</td>\n",
       "      <td>3</td>\n",
       "      <td>29</td>\n",
       "      <td>11</td>\n",
       "      <td>13</td>\n",
       "    </tr>\n",
       "    <tr>\n",
       "      <th>4</th>\n",
       "      <td>43</td>\n",
       "      <td>20</td>\n",
       "      <td>16</td>\n",
       "      <td>2</td>\n",
       "      <td>3</td>\n",
       "      <td>28</td>\n",
       "      <td>8</td>\n",
       "      <td>12</td>\n",
       "    </tr>\n",
       "  </tbody>\n",
       "</table>\n",
       "</div>"
      ],
      "text/plain": [
       "   X0  X1  X2  X3  X4  X5  X6  X8\n",
       "0  20  23  34   5   3  29   0  22\n",
       "1  40   3   7   0   3  29   6  24\n",
       "2  20  23  16   5   3  29   9   9\n",
       "3  20  13  34   5   3  29  11  13\n",
       "4  43  20  16   2   3  28   8  12"
      ]
     },
     "execution_count": 51,
     "metadata": {},
     "output_type": "execute_result"
    }
   ],
   "source": [
    "objectcols_test.head()"
   ]
  },
  {
   "cell_type": "code",
   "execution_count": 52,
   "metadata": {
    "id": "068e896f",
    "outputId": "68a8867e-3c77-4d75-8322-72c6f9722e87"
   },
   "outputs": [
    {
     "name": "stdout",
     "output_type": "stream",
     "text": [
      "(47,)\n",
      "(44,)\n"
     ]
    }
   ],
   "source": [
    "print(objectcols_train.X0.unique().shape)\n",
    "print(objectcols_test.X0.unique().shape)  "
   ]
  },
  {
   "cell_type": "code",
   "execution_count": 53,
   "metadata": {
    "id": "c8e58404",
    "outputId": "04b7e084-1c6c-482e-acca-9754bcde21ba"
   },
   "outputs": [
    {
     "name": "stdout",
     "output_type": "stream",
     "text": [
      "(44,)\n",
      "(40,)\n"
     ]
    }
   ],
   "source": [
    "print(objectcols_train.X2.unique().shape)\n",
    "print(objectcols_test.X2.unique().shape)  "
   ]
  },
  {
   "cell_type": "code",
   "execution_count": 54,
   "metadata": {
    "id": "28b0d298",
    "outputId": "99894cbe-113f-4ada-fa8c-a341bbccaf1d"
   },
   "outputs": [
    {
     "name": "stdout",
     "output_type": "stream",
     "text": [
      "(29,)\n",
      "(29,)\n"
     ]
    }
   ],
   "source": [
    "print(objectcols_train.X5.unique().shape)\n",
    "print(objectcols_test.X5.unique().shape)  "
   ]
  },
  {
   "cell_type": "code",
   "execution_count": 55,
   "metadata": {
    "id": "09397cb3",
    "outputId": "d084aa4e-8e16-4273-cb19-424f928a5144"
   },
   "outputs": [
    {
     "data": {
      "text/plain": [
       "array(['a', 'b', 'c', 'd', 'e', 'f', 'g', 'h', 'i', 'j', 'k', 'l', 'm',\n",
       "       'n', 'o', 'p', 'q', 'r', 's', 't', 'u', 'v', 'w', 'x', 'y', 'misc'],\n",
       "      dtype=object)"
      ]
     },
     "execution_count": 55,
     "metadata": {},
     "output_type": "execute_result"
    }
   ],
   "source": [
    "le.classes_"
   ]
  },
  {
   "cell_type": "code",
   "execution_count": 56,
   "metadata": {
    "id": "2ca176ed"
   },
   "outputs": [],
   "source": [
    "Train_Data = pd.concat([objectcols_train,numericcols_train],axis=1)\n",
    "Test_Data = pd.concat([objectcols_test,numericcols_test],axis=1)"
   ]
  },
  {
   "cell_type": "code",
   "execution_count": 57,
   "metadata": {
    "id": "149724f2",
    "outputId": "d9e3b98b-e8bc-4dad-8fbe-89961948e174"
   },
   "outputs": [
    {
     "name": "stdout",
     "output_type": "stream",
     "text": [
      "(4209, 365)\n",
      "(4209, 364)\n"
     ]
    }
   ],
   "source": [
    "print(Train_Data.shape)\n",
    "print(Test_Data.shape)"
   ]
  },
  {
   "cell_type": "code",
   "execution_count": 58,
   "metadata": {
    "id": "c1d0e8cc",
    "outputId": "f8dc91d0-71b7-42de-a259-a88098fd8a48"
   },
   "outputs": [
    {
     "data": {
      "text/plain": [
       "<matplotlib.axes._subplots.AxesSubplot at 0x7fc6fab7f730>"
      ]
     },
     "execution_count": 58,
     "metadata": {},
     "output_type": "execute_result"
    },
    {
     "data": {
      "image/png": "[encoded data removed]",
      "text/plain": [
       "<Figure size 432x288 with 1 Axes>"
      ]
     },
     "metadata": {
      "needs_background": "light"
     },
     "output_type": "display_data"
    }
   ],
   "source": [
    "Train_Data['y'].plot(kind='box',vert=False)"
   ]
  },
  {
   "cell_type": "code",
   "execution_count": 59,
   "metadata": {
    "id": "7497cf71",
    "outputId": "1febb5b9-d44c-4bc8-de77-b0ed1f597dbf"
   },
   "outputs": [
    {
     "data": {
      "text/plain": [
       "count    4209.000000\n",
       "mean      100.669318\n",
       "std        12.679381\n",
       "min        72.110000\n",
       "25%        90.820000\n",
       "50%        99.150000\n",
       "75%       109.010000\n",
       "max       265.320000\n",
       "Name: y, dtype: float64"
      ]
     },
     "execution_count": 59,
     "metadata": {},
     "output_type": "execute_result"
    }
   ],
   "source": [
    "Train_Data.y.describe()"
   ]
  },
  {
   "cell_type": "code",
   "execution_count": 60,
   "metadata": {
    "id": "f29ff698",
    "outputId": "40fd1bf4-c2aa-4b01-ed1c-90a7bfa9a8c4"
   },
   "outputs": [
    {
     "data": {
      "text/plain": [
       "136.29500000000002"
      ]
     },
     "execution_count": 60,
     "metadata": {},
     "output_type": "execute_result"
    }
   ],
   "source": [
    "Q1 = 90.82\n",
    "Q3 = 109.01\n",
    "IQR = Q3-Q1\n",
    "Whisker = Q3 + 1.5*IQR\n",
    "Whisker"
   ]
  },
  {
   "cell_type": "code",
   "execution_count": 61,
   "metadata": {
    "id": "d1df0751",
    "outputId": "0acef391-5f0f-4381-d4e9-0642890deaf1"
   },
   "outputs": [
    {
     "data": {
      "text/plain": [
       "(4159, 365)"
      ]
     },
     "execution_count": 61,
     "metadata": {},
     "output_type": "execute_result"
    }
   ],
   "source": [
    "Train_Data_No_Outlier = Train_Data[Train_Data.y<=Whisker]\n",
    "Train_Data_No_Outlier.shape"
   ]
  },
  {
   "cell_type": "code",
   "execution_count": 62,
   "metadata": {},
   "outputs": [],
   "source": [
    "#4.Perform dimensionality reduction."
   ]
  },
  {
   "cell_type": "code",
   "execution_count": 63,
   "metadata": {
    "id": "396e81c3"
   },
   "outputs": [],
   "source": [
    "Train_Data_PCA = Train_Data.drop(['X0', 'X1', 'X2', 'X3', 'X4', 'X5', 'X6', 'X8','y'],axis=1)\n",
    "Train_data_NoPCA=Train_Data[['X0', 'X1', 'X2', 'X3', 'X4', 'X5', 'X6', 'X8','y']]"
   ]
  },
  {
   "cell_type": "code",
   "execution_count": 64,
   "metadata": {
    "id": "83728372",
    "outputId": "eb75f2a0-0d9a-4e6c-ac6f-f2f66f355b05"
   },
   "outputs": [
    {
     "data": {
      "text/plain": [
       "(4209, 356)"
      ]
     },
     "execution_count": 64,
     "metadata": {},
     "output_type": "execute_result"
    }
   ],
   "source": [
    "Train_Data_PCA.shape"
   ]
  },
  {
   "cell_type": "code",
   "execution_count": 65,
   "metadata": {
    "id": "83648867"
   },
   "outputs": [],
   "source": [
    "from sklearn.decomposition import PCA"
   ]
  },
  {
   "cell_type": "code",
   "execution_count": 66,
   "metadata": {
    "id": "a4b6fb3b",
    "outputId": "220ee3c9-09b4-4303-ef7b-867ce1dfd680"
   },
   "outputs": [
    {
     "data": {
      "text/plain": [
       "PCA(n_components=0.995)"
      ]
     },
     "execution_count": 66,
     "metadata": {},
     "output_type": "execute_result"
    }
   ],
   "source": [
    "sklearn_pca = PCA(n_components=0.995)\n",
    "sklearn_pca.fit(Train_Data_PCA)"
   ]
  },
  {
   "cell_type": "code",
   "execution_count": 67,
   "metadata": {
    "id": "e8abfeef",
    "outputId": "3727389e-da7b-44e1-8d98-00121c80dd39"
   },
   "outputs": [
    {
     "data": {
      "text/plain": [
       "array([0.13075463, 0.08895904, 0.08608808, 0.06848157, 0.05775222,\n",
       "       0.04803243, 0.03839034, 0.03295792, 0.02810834, 0.02509342,\n",
       "       0.02354912, 0.01974626, 0.01703296, 0.01658974, 0.0154622 ,\n",
       "       0.0148002 , 0.0139528 , 0.01220624, 0.01040626, 0.01022129,\n",
       "       0.00979087, 0.00890637, 0.0088512 , 0.00830484, 0.00803175,\n",
       "       0.0074351 , 0.00733212, 0.0065182 , 0.00618283, 0.00584653,\n",
       "       0.00531908, 0.00509227, 0.00471843, 0.00462325, 0.00440977,\n",
       "       0.00421579, 0.00415108, 0.00404883, 0.00390537, 0.0036097 ,\n",
       "       0.00355435, 0.00343368, 0.00338189, 0.00323801, 0.00316569,\n",
       "       0.00299818, 0.00284821, 0.0028165 , 0.00263397, 0.00260255,\n",
       "       0.00254268, 0.00241672, 0.00238164, 0.00228854, 0.00217744,\n",
       "       0.00207342, 0.00204986, 0.00195304, 0.00190735, 0.00182114,\n",
       "       0.00176754, 0.00176037, 0.00167303, 0.00165814, 0.00158727,\n",
       "       0.00154972, 0.00149492, 0.00149098, 0.00144075, 0.00143579,\n",
       "       0.00137969, 0.00133213, 0.00132238, 0.00127473, 0.00124544,\n",
       "       0.00121618, 0.00118216, 0.00113684, 0.00111498, 0.00108894,\n",
       "       0.00107341, 0.00103741, 0.00101517, 0.00098969, 0.00097611,\n",
       "       0.00093283, 0.00090395, 0.00087552, 0.00085944, 0.00085174,\n",
       "       0.00082679, 0.00081564, 0.00079006, 0.00075809, 0.00075316,\n",
       "       0.00073486, 0.00072662, 0.0006847 , 0.00066965, 0.00064691,\n",
       "       0.00063176, 0.00061875, 0.00059798, 0.00058876, 0.0005838 ,\n",
       "       0.00055423, 0.00053943, 0.00052648, 0.00051303, 0.00049421,\n",
       "       0.00048111, 0.00045535, 0.00044737, 0.00044362, 0.00043593,\n",
       "       0.00041857, 0.00040862, 0.00038993, 0.00037837, 0.00037241,\n",
       "       0.00037146, 0.00036401, 0.00035541, 0.00035069, 0.00033548,\n",
       "       0.00033079, 0.00032807, 0.00031928, 0.00030844, 0.00029886,\n",
       "       0.00029541, 0.00029138, 0.00028838, 0.00028184, 0.00026013,\n",
       "       0.00025174, 0.00024378, 0.00022941, 0.00022298, 0.00022265,\n",
       "       0.00021021, 0.00020749, 0.0002031 , 0.00019988, 0.0001937 ,\n",
       "       0.000188  , 0.00018439, 0.00018171, 0.00017174, 0.00016624,\n",
       "       0.00016209])"
      ]
     },
     "execution_count": 67,
     "metadata": {},
     "output_type": "execute_result"
    }
   ],
   "source": [
    "sklearn_pca.explained_variance_ratio_"
   ]
  },
  {
   "cell_type": "code",
   "execution_count": 68,
   "metadata": {
    "id": "21fa1cf5",
    "outputId": "c6cd0b39-6e6d-401a-c685-ef0df0502037"
   },
   "outputs": [
    {
     "data": {
      "text/plain": [
       "151"
      ]
     },
     "execution_count": 68,
     "metadata": {},
     "output_type": "execute_result"
    }
   ],
   "source": [
    "len(sklearn_pca.explained_variance_ratio_)"
   ]
  },
  {
   "cell_type": "code",
   "execution_count": 69,
   "metadata": {
    "id": "aa155f2e",
    "outputId": "0dc9a2e8-99a3-4d3f-c112-ab1c85e4b424"
   },
   "outputs": [
    {
     "data": {
      "text/plain": [
       "(4209, 151)"
      ]
     },
     "execution_count": 69,
     "metadata": {},
     "output_type": "execute_result"
    }
   ],
   "source": [
    "Train_Data_Transformed = sklearn_pca.transform(Train_Data_PCA) \n",
    "Train_Data_Transformed.shape"
   ]
  },
  {
   "cell_type": "code",
   "execution_count": 70,
   "metadata": {
    "id": "255f72ce",
    "outputId": "89e13db9-9eea-4460-8cb7-4f619140aa53"
   },
   "outputs": [
    {
     "data": {
      "text/plain": [
       "(4209, 160)"
      ]
     },
     "execution_count": 70,
     "metadata": {},
     "output_type": "execute_result"
    }
   ],
   "source": [
    "\n",
    "Train_Data_Clean = pd.concat([pd.DataFrame(Train_Data_Transformed),Train_data_NoPCA],axis=1) \n",
    "Train_Data_Clean.shape"
   ]
  },
  {
   "cell_type": "code",
   "execution_count": 71,
   "metadata": {
    "id": "5f3992cd",
    "outputId": "e6a5fdfa-da93-4c05-bef1-31bbb0b4f026"
   },
   "outputs": [
    {
     "data": {
      "text/plain": [
       "(4159, 160)"
      ]
     },
     "execution_count": 71,
     "metadata": {},
     "output_type": "execute_result"
    }
   ],
   "source": [
    "\n",
    "Train_Data_Clean_No_Outlier = Train_Data_Clean[Train_Data_Clean.y<=Whisker]\n",
    "Train_Data_Clean_No_Outlier.shape"
   ]
  },
  {
   "cell_type": "code",
   "execution_count": 72,
   "metadata": {
    "id": "6966f670"
   },
   "outputs": [],
   "source": [
    "Test_Data_PCA = Test_Data.drop(['X0', 'X1', 'X2', 'X3', 'X4', 'X5', 'X6', 'X8'],axis=1)\n",
    "Test_data_NoPCA=Test_Data[['X0', 'X1', 'X2', 'X3', 'X4', 'X5', 'X6', 'X8']]"
   ]
  },
  {
   "cell_type": "code",
   "execution_count": 73,
   "metadata": {
    "id": "bed5b2d4",
    "outputId": "fc8dc07b-f120-49ca-8f76-426e557f6686"
   },
   "outputs": [
    {
     "data": {
      "text/plain": [
       "(4209, 151)"
      ]
     },
     "execution_count": 73,
     "metadata": {},
     "output_type": "execute_result"
    }
   ],
   "source": [
    "Test_Data_Transformed = sklearn_pca.transform(Test_Data_PCA)\n",
    "Test_Data_Transformed.shape"
   ]
  },
  {
   "cell_type": "code",
   "execution_count": 74,
   "metadata": {
    "id": "7f57e7fb",
    "outputId": "75464bd5-0022-4d33-fd83-005f73c7be6c"
   },
   "outputs": [
    {
     "data": {
      "text/plain": [
       "(4209, 159)"
      ]
     },
     "execution_count": 74,
     "metadata": {},
     "output_type": "execute_result"
    }
   ],
   "source": [
    "Test_Data_Clean = pd.concat([pd.DataFrame(Test_Data_Transformed),Test_data_NoPCA],axis=1) \n",
    "Test_Data_Clean.shape"
   ]
  },
  {
   "cell_type": "code",
   "execution_count": 75,
   "metadata": {
    "id": "857bc9a8",
    "outputId": "86ee4e3e-200e-45c1-f6a9-ca44288c3946"
   },
   "outputs": [
    {
     "name": "stdout",
     "output_type": "stream",
     "text": [
      "(4209, 160)\n",
      "(4159, 160)\n",
      "(4209, 159)\n"
     ]
    }
   ],
   "source": [
    "print(Train_Data_Clean.shape)\n",
    "print(Train_Data_Clean_No_Outlier.shape)\n",
    "print(Test_Data_Clean.shape)"
   ]
  },
  {
   "cell_type": "code",
   "execution_count": 76,
   "metadata": {},
   "outputs": [],
   "source": [
    "#5.Predict your test_df values using XGBoost."
   ]
  },
  {
   "cell_type": "code",
   "execution_count": 77,
   "metadata": {},
   "outputs": [],
   "source": [
    "X=Train_Data.drop('y',axis=1)\n",
    "y=Train_Data[['y']]"
   ]
  },
  {
   "cell_type": "code",
   "execution_count": 78,
   "metadata": {},
   "outputs": [],
   "source": [
    "from sklearn.metrics import mean_absolute_error, mean_squared_error\n",
    "from sklearn.model_selection import train_test_split\n",
    "Xtrain,Xtest,ytrain,ytest=train_test_split(X,y,random_state=5)"
   ]
  },
  {
   "cell_type": "code",
   "execution_count": 79,
   "metadata": {},
   "outputs": [],
   "source": [
    "Features_Clean = Train_Data_Clean.drop('y',axis=1)\n",
    "Features_No_Outlier = Train_Data_Clean_No_Outlier.drop('y',axis=1)\n",
    "Target_Clean = Train_Data_Clean[['y']]\n",
    "Target_No_Outlier = Train_Data_Clean_No_Outlier[['y']]"
   ]
  },
  {
   "cell_type": "code",
   "execution_count": 80,
   "metadata": {},
   "outputs": [],
   "source": [
    "from sklearn.model_selection import train_test_split"
   ]
  },
  {
   "cell_type": "code",
   "execution_count": 81,
   "metadata": {},
   "outputs": [],
   "source": [
    "X_Train_Clean,X_Test_Clean,y_Train_Clean, y_Test_Clean = train_test_split(Features_Clean,Target_Clean,random_state = 5)"
   ]
  },
  {
   "cell_type": "code",
   "execution_count": 82,
   "metadata": {},
   "outputs": [],
   "source": [
    "X_Train_No_Outlier,X_Test_No_Outlier,y_Train_No_Outlier, y_Test_No_Outlier = train_test_split(\n",
    "    Features_No_Outlier,Target_No_Outlier,random_state = 5)"
   ]
  },
  {
   "cell_type": "code",
   "execution_count": 83,
   "metadata": {
    "id": "42ab885b"
   },
   "outputs": [],
   "source": [
    "import xgboost as xgb\n",
    "from sklearn.model_selection import cross_val_score, KFold"
   ]
  },
  {
   "cell_type": "code",
   "execution_count": 84,
   "metadata": {
    "id": "a4ebadd6"
   },
   "outputs": [
    {
     "name": "stdout",
     "output_type": "stream",
     "text": [
      "XGBRegressor(base_score=None, booster=None, colsample_bylevel=None,\n",
      "             colsample_bynode=None, colsample_bytree=None, gamma=None,\n",
      "             gpu_id=None, importance_type='gain', interaction_constraints=None,\n",
      "             learning_rate=None, max_delta_step=None, max_depth=None,\n",
      "             min_child_weight=None, missing=nan, monotone_constraints=None,\n",
      "             n_estimators=100, n_jobs=None, num_parallel_tree=None,\n",
      "             random_state=None, reg_alpha=None, reg_lambda=None,\n",
      "             scale_pos_weight=None, subsample=None, tree_method=None,\n",
      "             validate_parameters=None, verbosity=0)\n"
     ]
    }
   ],
   "source": [
    "xgbr = xgb.XGBRegressor(verbosity=0) \n",
    "print(xgbr)"
   ]
  },
  {
   "cell_type": "code",
   "execution_count": 85,
   "metadata": {
    "id": "db19049c"
   },
   "outputs": [
    {
     "data": {
      "text/plain": [
       "XGBRegressor(base_score=0.5, booster='gbtree', colsample_bylevel=1,\n",
       "             colsample_bynode=1, colsample_bytree=1, gamma=0, gpu_id=-1,\n",
       "             importance_type='gain', interaction_constraints='',\n",
       "             learning_rate=0.300000012, max_delta_step=0, max_depth=6,\n",
       "             min_child_weight=1, missing=nan, monotone_constraints='()',\n",
       "             n_estimators=100, n_jobs=8, num_parallel_tree=1, random_state=0,\n",
       "             reg_alpha=0, reg_lambda=1, scale_pos_weight=1, subsample=1,\n",
       "             tree_method='exact', validate_parameters=1, verbosity=0)"
      ]
     },
     "execution_count": 85,
     "metadata": {},
     "output_type": "execute_result"
    }
   ],
   "source": [
    "xgbr.fit(X_Train_No_Outlier,y_Train_No_Outlier)"
   ]
  },
  {
   "cell_type": "code",
   "execution_count": 86,
   "metadata": {
    "id": "74939339"
   },
   "outputs": [
    {
     "name": "stdout",
     "output_type": "stream",
     "text": [
      "0.9451919572354924\n"
     ]
    }
   ],
   "source": [
    "score = xgbr.score(X_Train_No_Outlier,y_Train_No_Outlier)\n",
    "print(score)"
   ]
  },
  {
   "cell_type": "code",
   "execution_count": 87,
   "metadata": {
    "id": "f2e3dbf8"
   },
   "outputs": [
    {
     "name": "stdout",
     "output_type": "stream",
     "text": [
      "Mean Corss Validation Score:  0.5033042458158767\n"
     ]
    }
   ],
   "source": [
    "CV_score = cross_val_score(xgbr,X_Train_No_Outlier,y_Train_No_Outlier,cv=5)\n",
    "print('Mean Corss Validation Score: ', CV_score.mean())"
   ]
  },
  {
   "cell_type": "code",
   "execution_count": 88,
   "metadata": {
    "id": "9f545e0c"
   },
   "outputs": [],
   "source": [
    "yPred_PCA=xgbr.predict(X_Test_No_Outlier)"
   ]
  },
  {
   "cell_type": "code",
   "execution_count": 89,
   "metadata": {
    "id": "6a3d3593"
   },
   "outputs": [
    {
     "name": "stdout",
     "output_type": "stream",
     "text": [
      "RMSE: 8.173101827500519\n"
     ]
    }
   ],
   "source": [
    "MSE_PCA= mean_squared_error(yPred_PCA,y_Test_No_Outlier)\n",
    "RMSE_PCA = np.sqrt(MSE_PCA)\n",
    "print('RMSE:', RMSE_PCA)"
   ]
  },
  {
   "cell_type": "code",
   "execution_count": 90,
   "metadata": {
    "id": "08af471d"
   },
   "outputs": [],
   "source": [
    "#Case 1: Applying XCBoost on Train  Data with no outlier elimination and no PCA transformation"
   ]
  },
  {
   "cell_type": "code",
   "execution_count": 91,
   "metadata": {
    "id": "5249f6b1"
   },
   "outputs": [
    {
     "data": {
      "text/plain": [
       "XGBRegressor(base_score=0.5, booster='gbtree', colsample_bylevel=1,\n",
       "             colsample_bynode=1, colsample_bytree=1, gamma=0, gpu_id=-1,\n",
       "             importance_type='gain', interaction_constraints='',\n",
       "             learning_rate=0.300000012, max_delta_step=0, max_depth=6,\n",
       "             min_child_weight=1, missing=nan, monotone_constraints='()',\n",
       "             n_estimators=100, n_jobs=8, num_parallel_tree=1, random_state=0,\n",
       "             reg_alpha=0, reg_lambda=1, scale_pos_weight=1, subsample=1,\n",
       "             tree_method='exact', validate_parameters=1, verbosity=0)"
      ]
     },
     "execution_count": 91,
     "metadata": {},
     "output_type": "execute_result"
    }
   ],
   "source": [
    "xgbr.fit(Xtrain,ytrain)"
   ]
  },
  {
   "cell_type": "code",
   "execution_count": 92,
   "metadata": {
    "id": "cd035b6d"
   },
   "outputs": [
    {
     "data": {
      "text/plain": [
       "0.8814451527248507"
      ]
     },
     "execution_count": 92,
     "metadata": {},
     "output_type": "execute_result"
    }
   ],
   "source": [
    "score_org=xgbr.score(Xtrain,ytrain)\n",
    "score_org"
   ]
  },
  {
   "cell_type": "code",
   "execution_count": 93,
   "metadata": {
    "id": "6e0dc95e"
   },
   "outputs": [
    {
     "data": {
      "text/plain": [
       "0.48898999395863696"
      ]
     },
     "execution_count": 93,
     "metadata": {},
     "output_type": "execute_result"
    }
   ],
   "source": [
    "CV= cross_val_score(xgbr,Xtrain,ytrain,cv=5)\n",
    "CV.mean()"
   ]
  },
  {
   "cell_type": "code",
   "execution_count": 94,
   "metadata": {
    "id": "31619799"
   },
   "outputs": [],
   "source": [
    "yPred_org=xgbr.predict(Xtest)"
   ]
  },
  {
   "cell_type": "code",
   "execution_count": 95,
   "metadata": {
    "id": "566a5c4c"
   },
   "outputs": [
    {
     "name": "stdout",
     "output_type": "stream",
     "text": [
      "RMSE: 10.195511646924606\n"
     ]
    }
   ],
   "source": [
    "MSE_org= mean_squared_error(yPred_org,ytest)\n",
    "RMSE_org = np.sqrt(MSE_org)\n",
    "print('RMSE:', RMSE_org)"
   ]
  },
  {
   "cell_type": "code",
   "execution_count": 96,
   "metadata": {
    "id": "fed32dd4"
   },
   "outputs": [],
   "source": [
    "#Case 2: Applying XCBoost on Train  Data with outlier elimination and no PCA transformation"
   ]
  },
  {
   "cell_type": "code",
   "execution_count": 97,
   "metadata": {
    "id": "fe463b9b"
   },
   "outputs": [
    {
     "data": {
      "text/plain": [
       "(4209, 365)"
      ]
     },
     "execution_count": 97,
     "metadata": {},
     "output_type": "execute_result"
    }
   ],
   "source": [
    "Train_Data.shape"
   ]
  },
  {
   "cell_type": "code",
   "execution_count": 98,
   "metadata": {
    "id": "17238eea"
   },
   "outputs": [
    {
     "data": {
      "text/plain": [
       "(4159, 365)"
      ]
     },
     "execution_count": 98,
     "metadata": {},
     "output_type": "execute_result"
    }
   ],
   "source": [
    "traindata_NoOutlier=Train_Data[Train_Data.y<=Whisker]\n",
    "traindata_NoOutlier.shape"
   ]
  },
  {
   "cell_type": "code",
   "execution_count": 99,
   "metadata": {
    "id": "61898456"
   },
   "outputs": [],
   "source": [
    "X_features = traindata_NoOutlier.drop('y',axis=1)\n",
    "y_target = traindata_NoOutlier[['y']]"
   ]
  },
  {
   "cell_type": "code",
   "execution_count": 100,
   "metadata": {
    "id": "0410fee3"
   },
   "outputs": [],
   "source": [
    "XTrain_NO,XTest_NO,yTrain_NO,yTest_NO=train_test_split(X_features,y_target,random_state=5)"
   ]
  },
  {
   "cell_type": "code",
   "execution_count": 101,
   "metadata": {
    "id": "f8a59c84"
   },
   "outputs": [
    {
     "data": {
      "text/plain": [
       "XGBRegressor(base_score=0.5, booster='gbtree', colsample_bylevel=1,\n",
       "             colsample_bynode=1, colsample_bytree=1, gamma=0, gpu_id=-1,\n",
       "             importance_type='gain', interaction_constraints='',\n",
       "             learning_rate=0.300000012, max_delta_step=0, max_depth=6,\n",
       "             min_child_weight=1, missing=nan, monotone_constraints='()',\n",
       "             n_estimators=100, n_jobs=8, num_parallel_tree=1, random_state=0,\n",
       "             reg_alpha=0, reg_lambda=1, scale_pos_weight=1, subsample=1,\n",
       "             tree_method='exact', validate_parameters=1, verbosity=0)"
      ]
     },
     "execution_count": 101,
     "metadata": {},
     "output_type": "execute_result"
    }
   ],
   "source": [
    "xgbr.fit(XTrain_NO,yTrain_NO)"
   ]
  },
  {
   "cell_type": "code",
   "execution_count": 102,
   "metadata": {
    "id": "9c9917c0"
   },
   "outputs": [
    {
     "data": {
      "text/plain": [
       "0.9018441431748303"
      ]
     },
     "execution_count": 102,
     "metadata": {},
     "output_type": "execute_result"
    }
   ],
   "source": [
    "score_NO=xgbr.score(XTrain_NO,yTrain_NO)\n",
    "score_NO"
   ]
  },
  {
   "cell_type": "code",
   "execution_count": 103,
   "metadata": {
    "id": "b3483e7e"
   },
   "outputs": [
    {
     "data": {
      "text/plain": [
       "0.5640924727074079"
      ]
     },
     "execution_count": 103,
     "metadata": {},
     "output_type": "execute_result"
    }
   ],
   "source": [
    "CV_NO= cross_val_score(xgbr,XTrain_NO,yTrain_NO,cv=5)\n",
    "CV_NO.mean()"
   ]
  },
  {
   "cell_type": "code",
   "execution_count": 104,
   "metadata": {
    "id": "f8937a9e"
   },
   "outputs": [],
   "source": [
    "yPred_NO=xgbr.predict(XTest_NO)"
   ]
  },
  {
   "cell_type": "code",
   "execution_count": 105,
   "metadata": {
    "id": "01b2d061"
   },
   "outputs": [
    {
     "name": "stdout",
     "output_type": "stream",
     "text": [
      "RMSE: 7.512999014090298\n"
     ]
    }
   ],
   "source": [
    "MSE_NO= mean_squared_error(yPred_NO,yTest_NO)\n",
    "RMSE_NO = np.sqrt(MSE_NO)\n",
    "print('RMSE:', RMSE_NO)"
   ]
  },
  {
   "cell_type": "code",
   "execution_count": 106,
   "metadata": {
    "id": "8b6887ae"
   },
   "outputs": [
    {
     "data": {
      "image/png": "[encoded data removed]",
      "text/plain": [
       "<Figure size 432x288 with 1 Axes>"
      ]
     },
     "metadata": {
      "needs_background": "light"
     },
     "output_type": "display_data"
    }
   ],
   "source": [
    "x_ax = range(len(yTest_NO))\n",
    "plt.plot(x_ax, yTest_NO, label=\"original\")\n",
    "plt.plot(x_ax, yPred_NO, label=\"predicted\")\n",
    "plt.title(\"Mercedes-Benz Greener Manufacturing actual and predicted data for testing time\")\n",
    "plt.legend()\n",
    "plt.show()"
   ]
  }
 ],
 "metadata": {
  "colab": {
   "name": "ML_Project_1_TuhinGayen.ipynb",
   "provenance": []
  },
  "kernelspec": {
   "display_name": "Python 3",
   "language": "python",
   "name": "python3"
  },
  "language_info": {
   "codemirror_mode": {
    "name": "ipython",
    "version": 3
   },
   "file_extension": ".py",
   "mimetype": "text/x-python",
   "name": "python",
   "nbconvert_exporter": "python",
   "pygments_lexer": "ipython3",
   "version": "3.8.3"
  }
 },
 "nbformat": 4,
 "nbformat_minor": 5
}
